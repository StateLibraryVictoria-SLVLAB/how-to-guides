{
  "cells": [
    {
      "cell_type": "markdown",
      "metadata": {
        "id": "4nlpADQFtZCC"
      },
      "source": [
        "# How to use IIIF to access State Library Victoria's digitised materials\n",
        "\n",
        "## IIIF: Making Digital Collections More Accessible\n",
        "\n",
        "State Library Victoria and other GLAM (galleries, libraries, archives, and museums) institutions use the International Image Interoperability Framework (IIIF, pronounced \"triple-eye eff\") to share their digitised materials.\n",
        "\n",
        "### What is IIIF?\n",
        "\n",
        "Think of IIIF like the USB standard for digital materials. Just as USB-C allows you to use the same charger across different devices, IIIF creates a common protocol for digital images that works across organisations.\n",
        "\n",
        "### Why this matters\n",
        "\n",
        "This standardisation offers significant benefits:\n",
        "\n",
        "- Image viewers and servers can be developed once and used everywhere\n",
        "- Organisations can share infrastructure instead of building custom solutions\n",
        "- Users get consistent experiences across different digital collections\n",
        "\n",
        "### About This Guide\n",
        "\n",
        "While this guide uses examples from State Library Victoria's digital collection, the same techniques can be applied to IIIF images from institutions worldwide with minimal adjustments. [Check out these guides to finding IIIF resources](https://iiif.io/guides/finding_resources/)\n",
        "\n",
        "### In this guide we will:\n",
        "\n",
        "- get familiar with the IIIF presentation manifest\n",
        "- use this manifest to pull out useful information\n",
        "- familiarise ourselves with the IIIF image API URI schema\n",
        "- demonstrate how the URI parameters can be used to format and request different elements from an image\n",
        "\n",
        "\n",
        "**Note:** Although this introduction to IIIF can be read as prose, it is intended to be a practical hands-on guide. Therefore it has been deployed as a \"code-along\" Jupyter notebook on the following platform:\n",
        "\n",
        "- [Colab](https://colab.research.google.com/github/StateLibraryVictoria-SLVLAB/how-to-guides/blob/main/maniiifestor-browser-extension/working_with_images_IIIF.ipynb)"
      ]
    },
    {
      "cell_type": "markdown",
      "metadata": {
        "id": "KGSy9S-AH2TM"
      },
      "source": [
        "## Finding sample images from the Library's collection\n",
        "\n",
        "In order to explore IIIF using the Library's digitised collection, we will need to find one or more images we would like to epxlore. Helpfully, the Library has a pool of copyright-free images that can be accessed on its website: [https://www.slv.vic.gov.au/images](https://www.slv.vic.gov.au/images).\n",
        "\n",
        "Once we have found an image we would like to explore we will need to find the identifier from the URL: `https://viewer.slv.vic.gov.au/?entity={ie_pid}&mode=browse`\n",
        "\n",
        "For the remainder of this guide we will use the image identifier `IE145082` and add it to a variable:"
      ]
    },
    {
      "cell_type": "code",
      "execution_count": null,
      "metadata": {
        "id": "K8WrZ_PCo-eM"
      },
      "outputs": [],
      "source": [
        "ie_pid = \"IE145082\""
      ]
    },
    {
      "cell_type": "markdown",
      "metadata": {
        "id": "Er_JlwjYH-6R"
      },
      "source": [
        "## Working with IIIF manifests\n",
        "\n",
        "IIIF manifests are files that contain relevant information about the digitised resources being made available. They use JSON, which uses key:value pairings to help structure the data.\n",
        "\n",
        "The `image_id` that we retrieved from the URL allows us to request the \"IIIF presentation manifest\" for the object. The presentation manifest aims to combine digitised materials (images in this case) with relevant metadata about the material."
      ]
    },
    {
      "cell_type": "code",
      "execution_count": null,
      "metadata": {
        "colab": {
          "base_uri": "https://localhost:8080/"
        },
        "id": "6MT9Vw7lpwTJ",
        "outputId": "c297f24e-b2a0-4bf8-aa41-acf1ed907e6d"
      },
      "outputs": [],
      "source": [
        "import requests\n",
        "import pprint\n",
        "\n",
        "manifest_url = f\"https://rosetta.slv.vic.gov.au/delivery/iiif/presentation/2.1/{ie_pid}/manifest\"\n",
        "response = requests.get(manifest_url)\n",
        "manifest = response.json()\n",
        "\n",
        "pp = pprint.PrettyPrinter()\n",
        "pp.pprint(manifest)"
      ]
    },
    {
      "cell_type": "markdown",
      "metadata": {
        "id": "I20GQg1FIE5y"
      },
      "source": [
        "### Retrieving useful information from the manifest\n",
        "\n",
        "The data returned by the manifest may look complicated to begin with, but with a little guidance it is easy to interpret and retrieve useful data from.\n",
        "\n",
        "**Note:** a neat way of seeing what the presentation manifest contains, and can be used for is by adding the manifest URL [https://rosetta.slv.vic.gov.au/delivery/iiif/presentation/2.1/IE145082/manifest](https://rosetta.slv.vic.gov.au/delivery/iiif/presentation/2.1/IE145082/manifest) to the Mirador Viewer demo site [https://projectmirador.org/demo/](https://projectmirador.org/demo/)."
      ]
    },
    {
      "cell_type": "markdown",
      "metadata": {
        "id": "v9END1xwINny"
      },
      "source": [
        "#### Descriptive and attribution metadata\n",
        "\n",
        "The manifest data can contain useful information about the digitised resource. For example it's rights attribution and some descriptive metadata like a title.\n",
        "\n",
        "e.g.\n",
        "```json\n",
        "  {...\n",
        "    'attribution': 'This work is out of copyright',\n",
        "    'description': '',\n",
        "    'label': '[Berkshire pig with points marked on image]',\n",
        "  ...}\n",
        "```\n",
        "\n",
        "The keys for this fields can be used to access the data:"
      ]
    },
    {
      "cell_type": "code",
      "execution_count": null,
      "metadata": {
        "colab": {
          "base_uri": "https://localhost:8080/",
          "height": 35
        },
        "id": "WjRzwXv8XIL8",
        "outputId": "a610bd1a-19f9-49b7-f725-1bfdd58416bc"
      },
      "outputs": [],
      "source": [
        "attribution = manifest[\"attribution\"]\n",
        "title = manifest[\"label\"]\n",
        "\n",
        "f\"Copyright:  {attribution}. Title: {title}\""
      ]
    },
    {
      "cell_type": "markdown",
      "metadata": {
        "id": "_QPETFNMIJur"
      },
      "source": [
        "#### Images\n",
        "\n",
        "In the manifest, information about the images are contained within the `canvases` array. The `canvases` are themselves nestled within an array entitled `sequences`."
      ]
    },
    {
      "cell_type": "code",
      "execution_count": null,
      "metadata": {
        "colab": {
          "base_uri": "https://localhost:8080/"
        },
        "id": "_r8UxFqdaDwP",
        "outputId": "0bc87b3d-29e4-4a20-9930-0b1af4b2f171"
      },
      "outputs": [],
      "source": [
        "canvases = manifest[\"sequences\"][0][\"canvases\"]\n",
        "\n",
        "canvases"
      ]
    },
    {
      "cell_type": "markdown",
      "metadata": {
        "id": "9hjQ3a-R53v0"
      },
      "source": [
        "Each \"canvas\" contains information about the images: including the image id, its format and dimensions.\n",
        "\n",
        "```json\n",
        " 'images': [...\n",
        "        'format': 'image/jpeg',\n",
        "        'service': {...\n",
        "          '@id': 'https://rosetta.slv.vic.gov.au:2083/iiif/2/IE145082:FL21000768.jpg',\n",
        "        ...},\n",
        "        'height': 5257,\n",
        "        'width': 7000},\n",
        "      ...]},\n",
        "```\n",
        "\n",
        "Let's loop through each \"canvas\" in the array and display the id, format, height and width."
      ]
    },
    {
      "cell_type": "code",
      "execution_count": null,
      "metadata": {
        "colab": {
          "base_uri": "https://localhost:8080/"
        },
        "id": "HM_Mm5aLadB_",
        "outputId": "88bdcf20-b23b-489c-dd00-1d8d4f1e181b"
      },
      "outputs": [],
      "source": [
        "for canvas in canvases:\n",
        "  print(\"Image ID\",canvas[\"images\"][0][\"resource\"][\"service\"][\"@id\"])\n",
        "  print(\"Format\",canvas[\"images\"][0][\"resource\"][\"format\"])\n",
        "  print(\"Width\",canvas[\"images\"][0][\"resource\"][\"width\"])\n",
        "  print(\"Height\",canvas[\"images\"][0][\"resource\"][\"height\"])"
      ]
    },
    {
      "cell_type": "markdown",
      "metadata": {
        "id": "z6dy_kMXTXCa"
      },
      "source": [
        "### Explore the IIIF Image API\n",
        "\n",
        "Now that we have retrieved the presentation manifest and identified some useful elements from it, we can use them to start exploring the image API.\n",
        "\n",
        "The image API is designed to offer a structured but flexible way of retrieving images, or regions of images in a range of sizes, orientations and formats.\n",
        "\n",
        "#### Image URI syntax\n",
        "\n",
        "```\n",
        "{scheme}://{server}/{prefix}/{identifier}/{region}/{size}/{rotation}/{quality}.{format}\n",
        "```\n",
        "\n",
        "Official documentation [https://iiif.io/api/image/3.0/](https://iiif.io/api/image/3.0/)\n",
        "\n",
        "Returning to our example, the first four parameters in the schema are taken care of by the data retrieved from the manifest:\n"
      ]
    },
    {
      "cell_type": "code",
      "execution_count": null,
      "metadata": {
        "colab": {
          "base_uri": "https://localhost:8080/",
          "height": 35
        },
        "id": "mi4YnlC7bgnO",
        "outputId": "bcd933f3-0caf-490c-9e7e-e0ae22e99c78"
      },
      "outputs": [],
      "source": [
        "image_id = canvases[0][\"images\"][0][\"resource\"][\"service\"][\"@id\"]\n",
        "\n",
        "image_id"
      ]
    },
    {
      "cell_type": "markdown",
      "metadata": {
        "id": "zNeU76Z_CfWy"
      },
      "source": [
        "If we add some default values for the remaining params in the schema, then we can retrieve and display the image:"
      ]
    },
    {
      "cell_type": "code",
      "execution_count": null,
      "metadata": {
        "colab": {
          "base_uri": "https://localhost:8080/",
          "height": 1000
        },
        "id": "yiMY_cLUroMv",
        "outputId": "f1fa582f-e1ee-4f1b-b42a-e9836c6bebc8"
      },
      "outputs": [],
      "source": [
        "from PIL import Image\n",
        "\n",
        "image_url = f\"{image_id}/full/max/0/default.jpg\"\n",
        "\n",
        "img = Image.open(requests.get(image_url, stream=True).raw)\n",
        "display(img)"
      ]
    },
    {
      "cell_type": "markdown",
      "metadata": {
        "id": "e0eV6parC73W"
      },
      "source": [
        "With the full image retrieved we can consider how we might want to update the URI parameters to retrieve different parts of the image.\n",
        "\n",
        "#### Rotation\n",
        "\n",
        "We will fix the rotation for each image request at `0`\n",
        "\n",
        "#### Size\n",
        "\n",
        "We will use the `pct:` format to determine the size of the returned image by percentage of the original.\n"
      ]
    },
    {
      "cell_type": "code",
      "execution_count": null,
      "metadata": {
        "colab": {
          "base_uri": "https://localhost:8080/",
          "height": 543
        },
        "id": "4KtWqlaEtEuP",
        "outputId": "84e75aee-299e-4f0c-d572-17b125a1ae43"
      },
      "outputs": [],
      "source": [
        "region = \"full\"\n",
        "rotation = \"0\"\n",
        "size = \"pct:10\"\n",
        "quality = \"default\"\n",
        "\n",
        "image_url = f\"{image_id}/{region}/{size}/{rotation}/{quality}.jpg\"\n",
        "\n",
        "img = Image.open(requests.get(image_url, stream=True).raw)\n",
        "display(img)"
      ]
    },
    {
      "cell_type": "markdown",
      "metadata": {
        "id": "UZxxkVnVFk4V"
      },
      "source": [
        "#### Quality\n",
        "\n",
        "Given that the original image is effectively black-and-white we can update the `quality` param to `gray`."
      ]
    },
    {
      "cell_type": "code",
      "execution_count": null,
      "metadata": {
        "colab": {
          "base_uri": "https://localhost:8080/",
          "height": 543
        },
        "id": "ejjpwN7yEwvU",
        "outputId": "77e5c01b-8c2a-438a-f82d-f9c36114f1b5"
      },
      "outputs": [],
      "source": [
        "quality = \"gray\"\n",
        "\n",
        "image_url = f\"{image_id}/{region}/{size}/{rotation}/{quality}.jpg\"\n",
        "\n",
        "img = Image.open(requests.get(image_url, stream=True).raw)\n",
        "display(img)"
      ]
    },
    {
      "cell_type": "markdown",
      "metadata": {
        "id": "pWGHFkjpFmRW"
      },
      "source": [
        "#### Region\n",
        "\n",
        "For these examples we will use the format `x,y,w,h` to select specific parts of the image.\n",
        "\n",
        "By specifying a region we are able to pick out interesting features and request that the image returns them.\n",
        "\n",
        "**Note:** The IIIF *API playground* allows you update the different URL query parameters and see the results in browser [https://www.learniiif.org/image-api/playground](https://www.learniiif.org/image-api/playground)."
      ]
    },
    {
      "cell_type": "code",
      "execution_count": null,
      "metadata": {
        "colab": {
          "base_uri": "https://localhost:8080/",
          "height": 362
        },
        "id": "zJrC2kW3D1x0",
        "outputId": "03dd76c0-e2c1-47e1-b035-a053ac57717f"
      },
      "outputs": [],
      "source": [
        "region = \"0,1400,2400,2300\"\n",
        "size = \"pct:15\"\n",
        "\n",
        "\n",
        "image_url = f\"{image_id}/{region}/{size}/{rotation}/{quality}.jpg\"\n",
        "\n",
        "img = Image.open(requests.get(image_url, stream=True).raw)\n",
        "display(img)"
      ]
    },
    {
      "cell_type": "code",
      "execution_count": null,
      "metadata": {
        "colab": {
          "base_uri": "https://localhost:8080/",
          "height": 422
        },
        "id": "XB4vBnMtf5N8",
        "outputId": "66452545-2f5f-4c51-cde3-a6c6753e78e3"
      },
      "outputs": [],
      "source": [
        "region = \"3400,1400,2700,2700\"\n",
        "\n",
        "image_url = f\"{image_id}/{region}/{size}/{rotation}/{quality}.jpg\"\n",
        "\n",
        "img = Image.open(requests.get(image_url, stream=True).raw)\n",
        "display(img)"
      ]
    },
    {
      "cell_type": "markdown",
      "metadata": {},
      "source": [
        "## Wrapping up\n",
        "\n",
        "By following this guide you should be more familiar with how IIIF protocol structure data about images and their presentation, by using JSON manifests. You should also be confident in accessing the Library's images via IIIF, and hopefully inspired to explore the 100,000s of digitised images made available by the Library via IIIF."
      ]
    },
    {
      "cell_type": "markdown",
      "metadata": {
        "id": "sVS6rGSxTNqb"
      },
      "source": [
        "## References\n",
        "\n",
        "- the IIIF homepage has a plethora of useful information, including demos, learning resources and a calendar of community events [https://iiif.io/](https://iiif.io/)\n",
        "- The \"SLV\" section on GLAM workbench site is another very useful introduction to working with the Library's collections via IIIF [https://glam-workbench.net/slv/](https://glam-workbench.net/slv/)"
      ]
    }
  ],
  "metadata": {
    "colab": {
      "provenance": []
    },
    "kernelspec": {
      "display_name": "Python 3",
      "name": "python3"
    },
    "language_info": {
      "name": "python"
    }
  },
  "nbformat": 4,
  "nbformat_minor": 0
}
