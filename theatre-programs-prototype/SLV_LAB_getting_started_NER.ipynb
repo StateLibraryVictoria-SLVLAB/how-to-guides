{
  "cells": [
    {
      "cell_type": "markdown",
      "metadata": {
        "id": "e9zEpxIk2bpE"
      },
      "source": [
        "# Getting started with Named Entity Recognition\n",
        "\n",
        "## Introduction\n",
        "\n",
        "As human beings we are adept at deriving meaning from text/language to such an extent that it tends to happen without us noticing it. We will parse a sentence for meaning without realising we are doing it most of the time. However, if we are asking a computer to do the same thing, it soon becomes clear that the set of decisions our brains make is quite complex and hard to fully explain.\n",
        "\n",
        "For example, take the following sentence from the opening paragraph of the State Library Victoria's Wikipedia entry:\n",
        "\n",
        "*Located in Melbourne, it was established in 1854 as the Melbourne Public Library, making it Australia's oldest public library and one of the first free libraries in the world.*\n",
        "\n",
        "Most people will immediately pick out \"1854\" as a date, and \"Melbourne Public Library\" as an organisation, whilst the initial mention of Melbourne, though related will have a subtly different meaning. These are all key words or phrases that ur brains can recognise and contextualise with little apparent effort. Named Entity Recognition (NER) is an establised field within the computer sciences that attempts to replicate this ability.\n",
        "\n",
        "### Named Entity Recognition\n",
        "\n",
        "Named Entity Recognition (NER) identifies the most important words and phrases in text. As a branch of Natural Language Processing (NLP), it uses statistical analysis and machine learning to help computers understand written language.\n",
        "NLP has gained prominence recently because it powers large language models like ChatGPT. This growing interest has led to many tools and packages for performing NER tasks.\n",
        "\n",
        "This guide will:\n",
        "\n",
        "  - Break down the three main steps in the NER process\n",
        "  - Show practical examples of each step\n",
        "  - Help you select the right NER package for your specific needs\n",
        "\n",
        "Although this introduction to NER can be read as prose, it is intended to be a practical hands-on guide. It has therefore been deployed as a \"code-along\" Jupyter notebook on the following platform:\n",
        "\n",
        "- [Colab](https://colab.research.google.com/github/StateLibraryVictoria-SLVLAB/how-to-guides/blob/main/theatre-programs-prototype/SLV_LAB_getting_started_NER.ipynb)\n",
        "\n",
        "## Overview of the process\n",
        "\n",
        "Typically NER is broken down into these steps:\n",
        "\n",
        "1. Tokenisation: breaking down text into its constituent parts\n",
        "2. Parts of Sentence\" (POS) classification: categorising the tokens accosrding to their linguistic function e.g. verb, noun, punctuation etc.\n",
        "3. Entity recognition: \"chunking\" the classified tokens into entities, and classifying by typw of entity e.g. person, location, date etc.\n",
        "\n",
        "There are many Python packages that can be used to perform NER, and frequently they don't make explicit the three steps being undertaken. Typically, that's not a problem, however, to help understand the process this resource will step through the process using the Python package `NLTK`."
      ]
    },
    {
      "cell_type": "markdown",
      "metadata": {
        "id": "HEnT9o8B_iut"
      },
      "source": [
        "### Installing NLTK and relevant data\n",
        "\n",
        "NLTK or \"Natural Language Toolkit\" is an open source project that aims to provide a variety of tools for working with human language data: [https://www.nltk.org/](https://www.nltk.org/)\n",
        "\n",
        "In Python, NLTK can be installed using pip. **Note** we'll also install `svgling` that is used later in this guide to create a visualisation of the NER output."
      ]
    },
    {
      "cell_type": "code",
      "execution_count": null,
      "metadata": {
        "collapsed": true,
        "id": "8HvTjwj91kF3"
      },
      "outputs": [],
      "source": [
        "! pip install nltk svgling"
      ]
    },
    {
      "cell_type": "markdown",
      "metadata": {
        "id": "zDYnKWK5Imgc"
      },
      "source": [
        "### Downloading language data\n",
        "\n",
        "NLTK also provides an interface for working with over 50 language-based datasets."
      ]
    },
    {
      "cell_type": "code",
      "execution_count": null,
      "metadata": {
        "collapsed": true,
        "id": "6BqJvBufCY1V"
      },
      "outputs": [],
      "source": [
        "import nltk\n",
        "nltk.download('punkt_tab')\n",
        "nltk.download('averaged_perceptron_tagger_eng')\n",
        "nltk.download('maxent_ne_chunker_tab')\n",
        "nltk.download('words')\n",
        "nltk.download('tagsets_json')"
      ]
    },
    {
      "cell_type": "markdown",
      "metadata": {
        "id": "OdXTO2vY_3qe"
      },
      "source": [
        "To help demonstrate how NER works, we will use the first sentence of the State Library Victoria's Wikipedia page ([https://en.wikipedia.org/wiki/State_Library_Victoria](https://en.wikipedia.org/wiki/State_Library_Victoria))."
      ]
    },
    {
      "cell_type": "code",
      "execution_count": 3,
      "metadata": {
        "id": "2nkFUSDVAcnN"
      },
      "outputs": [],
      "source": [
        "about_slv = \"\"\"\n",
        "    Located in Melbourne, it was established in 1854 as the Melbourne Public Library,\n",
        "    making it Australia's oldest public library and one of the first free libraries in the world.\n",
        "    \"\"\""
      ]
    },
    {
      "cell_type": "markdown",
      "metadata": {
        "id": "ZSF6hbFcItrM"
      },
      "source": [
        "### 1. Tokenisation\n",
        "\n",
        "In simple terms, Tokenisation is breaking the down of a body of text into its constituent parts, most frequently words, but also other parts of language like punctuation.\n",
        "\n",
        "By breaking down the text into tokens, each token can then be analysed and categorised."
      ]
    },
    {
      "cell_type": "code",
      "execution_count": 4,
      "metadata": {
        "colab": {
          "base_uri": "https://localhost:8080/",
          "height": 0
        },
        "id": "5PEqLy0BHlpA",
        "outputId": "54a80e3c-99cc-4e6b-8d1e-49d766415fac"
      },
      "outputs": [
        {
          "data": {
            "text/plain": [
              "['Located',\n",
              " 'in',\n",
              " 'Melbourne',\n",
              " ',',\n",
              " 'it',\n",
              " 'was',\n",
              " 'established',\n",
              " 'in',\n",
              " '1854',\n",
              " 'as',\n",
              " 'the',\n",
              " 'Melbourne',\n",
              " 'Public',\n",
              " 'Library',\n",
              " ',',\n",
              " 'making',\n",
              " 'it',\n",
              " 'Australia',\n",
              " \"'s\",\n",
              " 'oldest',\n",
              " 'public',\n",
              " 'library',\n",
              " 'and',\n",
              " 'one',\n",
              " 'of',\n",
              " 'the',\n",
              " 'first',\n",
              " 'free',\n",
              " 'libraries',\n",
              " 'in',\n",
              " 'the',\n",
              " 'world',\n",
              " '.']"
            ]
          },
          "execution_count": 4,
          "metadata": {},
          "output_type": "execute_result"
        }
      ],
      "source": [
        "tokens = nltk.word_tokenize(about_slv)\n",
        "\n",
        "tokens"
      ]
    },
    {
      "cell_type": "markdown",
      "metadata": {
        "id": "NMpZf2qfsbK7"
      },
      "source": [
        "Tokenisation is in itself a field of NLP research, and for some tasks it may be worth investigating different tokenisation methods/approaches. However, for many use cases the \"built in\" tokenisers are usually more than appropriate."
      ]
    },
    {
      "cell_type": "markdown",
      "metadata": {
        "id": "j96yNL43uvn_"
      },
      "source": [
        "### 2. Parts of Sentence (POS) classification\n",
        "\n",
        "With the body of text being tokenised, each one is categorised linguistically. They are put into categories according to which part of a sentence (POS) they are. For example, whether a token is a noun or verb.\n"
      ]
    },
    {
      "cell_type": "code",
      "execution_count": 5,
      "metadata": {
        "colab": {
          "base_uri": "https://localhost:8080/",
          "height": 0
        },
        "id": "gVZ7inqCvCAr",
        "outputId": "217a0ebc-612f-4b1c-c491-07c8a23adac0"
      },
      "outputs": [
        {
          "data": {
            "text/plain": [
              "[('Located', 'VBN'),\n",
              " ('in', 'IN'),\n",
              " ('Melbourne', 'NNP'),\n",
              " (',', ','),\n",
              " ('it', 'PRP'),\n",
              " ('was', 'VBD'),\n",
              " ('established', 'VBN'),\n",
              " ('in', 'IN'),\n",
              " ('1854', 'CD'),\n",
              " ('as', 'IN'),\n",
              " ('the', 'DT'),\n",
              " ('Melbourne', 'NNP'),\n",
              " ('Public', 'NNP'),\n",
              " ('Library', 'NNP'),\n",
              " (',', ','),\n",
              " ('making', 'VBG'),\n",
              " ('it', 'PRP'),\n",
              " ('Australia', 'NNP'),\n",
              " (\"'s\", 'POS'),\n",
              " ('oldest', 'JJS'),\n",
              " ('public', 'JJ'),\n",
              " ('library', 'NN'),\n",
              " ('and', 'CC'),\n",
              " ('one', 'CD'),\n",
              " ('of', 'IN'),\n",
              " ('the', 'DT'),\n",
              " ('first', 'JJ'),\n",
              " ('free', 'JJ'),\n",
              " ('libraries', 'NNS'),\n",
              " ('in', 'IN'),\n",
              " ('the', 'DT'),\n",
              " ('world', 'NN'),\n",
              " ('.', '.')]"
            ]
          },
          "execution_count": 5,
          "metadata": {},
          "output_type": "execute_result"
        }
      ],
      "source": [
        "tagged_tokens = nltk.pos_tag(tokens)\n",
        "\n",
        "tagged_tokens"
      ]
    },
    {
      "cell_type": "markdown",
      "metadata": {
        "id": "DhC8ft5a2WF1"
      },
      "source": [
        "As the parts of sentence output demonstrates, each token is assigned to a linguistic category e.g. `('State', 'NNP')`. However, it is not always immediately apparent what the category is. NLTK provides a method for checking what a given POS code is, as well as examples of the POS category from its training data."
      ]
    },
    {
      "cell_type": "code",
      "execution_count": 6,
      "metadata": {
        "colab": {
          "base_uri": "https://localhost:8080/",
          "height": 0
        },
        "id": "xIH2sTeOsbZw",
        "outputId": "ef6f00dc-6567-46c8-e5b7-1cf1c1833c8c"
      },
      "outputs": [
        {
          "name": "stdout",
          "output_type": "stream",
          "text": [
            "NNP: noun, proper, singular\n",
            "    Motown Venneboerger Czestochwa Ranzer Conchita Trumplane Christos\n",
            "    Oceanside Escobar Kreisler Sawyer Cougar Yvette Ervin ODI Darryl CTCA\n",
            "    Shannon A.K.C. Meltex Liverpool ...\n"
          ]
        }
      ],
      "source": [
        "nltk.help.upenn_tagset('NNP')"
      ]
    },
    {
      "cell_type": "markdown",
      "metadata": {
        "id": "4DIoJYlGtMhj"
      },
      "source": [
        "The linguistic categories also exist with higher order categories and share the same opening characters e.g. NNP, NNS. A 'wildcard' operator can be used to check these categories too."
      ]
    },
    {
      "cell_type": "code",
      "execution_count": 7,
      "metadata": {
        "colab": {
          "base_uri": "https://localhost:8080/",
          "height": 0
        },
        "id": "SOdsPiiTtno8",
        "outputId": "50eca562-6742-4af7-cbcc-4a4279a4bf06"
      },
      "outputs": [
        {
          "name": "stdout",
          "output_type": "stream",
          "text": [
            "NN: noun, common, singular or mass\n",
            "    common-carrier cabbage knuckle-duster Casino afghan shed thermostat\n",
            "    investment slide humour falloff slick wind hyena override subhumanity\n",
            "    machinist ...\n",
            "NNP: noun, proper, singular\n",
            "    Motown Venneboerger Czestochwa Ranzer Conchita Trumplane Christos\n",
            "    Oceanside Escobar Kreisler Sawyer Cougar Yvette Ervin ODI Darryl CTCA\n",
            "    Shannon A.K.C. Meltex Liverpool ...\n",
            "NNPS: noun, proper, plural\n",
            "    Americans Americas Amharas Amityvilles Amusements Anarcho-Syndicalists\n",
            "    Andalusians Andes Andruses Angels Animals Anthony Antilles Antiques\n",
            "    Apache Apaches Apocrypha ...\n",
            "NNS: noun, common, plural\n",
            "    undergraduates scotches bric-a-brac products bodyguards facets coasts\n",
            "    divestitures storehouses designs clubs fragrances averages\n",
            "    subjectivists apprehensions muses factory-jobs ...\n"
          ]
        }
      ],
      "source": [
        "nltk.help.upenn_tagset('NN*')"
      ]
    },
    {
      "cell_type": "markdown",
      "metadata": {
        "id": "sHZIkHlGJh-s"
      },
      "source": [
        "### 3. Entity recognition\n",
        "\n",
        "With the text broken into tokens that have then beem categorised. The categorised tokens can then be analysed, and entity recognition attempted. The entities are based on categories used in the creation of statistical model underlying the NER process.\n",
        "\n",
        "The categories that entities are added to in NLTK:\n",
        "- Persons\n",
        "- Organizations\n",
        "- Locations\n",
        "- Facilities\n",
        "- Geographical Political Entities (GPE)\n"
      ]
    },
    {
      "cell_type": "code",
      "execution_count": 8,
      "metadata": {
        "colab": {
          "base_uri": "https://localhost:8080/",
          "height": 126
        },
        "id": "J8_dmmr9JpSg",
        "outputId": "428fe34f-f476-432c-a53f-371d80975371"
      },
      "outputs": [
        {
          "data": {
            "image/svg+xml": [
              "<svg baseProfile=\"full\" height=\"105px\" preserveAspectRatio=\"xMidYMid meet\" style=\"font-family: times, serif; font-weight: normal; font-style: normal; font-size: 10px\" version=\"1.1\" viewBox=\"0,0,1080.0,105.0\" width=\"1080px\" xmlns=\"http://www.w3.org/2000/svg\" xmlns:ev=\"http://www.w3.org/2001/xml-events\" xmlns:xlink=\"http://www.w3.org/1999/xlink\"><defs /><svg width=\"100%\" x=\"0\" y=\"0px\"><defs /><text text-anchor=\"middle\" x=\"50%\" y=\"10px\">S</text></svg><svg width=\"4.16667%\" x=\"0%\" y=\"30px\"><defs /><svg width=\"100%\" x=\"0\" y=\"0px\"><defs /><text text-anchor=\"middle\" x=\"50%\" y=\"10px\">Located</text></svg><svg width=\"100%\" x=\"0%\" y=\"30px\"><defs /><svg width=\"100%\" x=\"0\" y=\"0px\"><defs /><text text-anchor=\"middle\" x=\"50%\" y=\"10px\">VBN</text></svg></svg><line stroke=\"black\" x1=\"50%\" x2=\"50%\" y1=\"12.5px\" y2=\"30px\" /></svg><line stroke=\"black\" x1=\"50%\" x2=\"2.08333%\" y1=\"12.5px\" y2=\"30px\" /><svg width=\"1.85185%\" x=\"4.16667%\" y=\"30px\"><defs /><svg width=\"100%\" x=\"0\" y=\"0px\"><defs /><text text-anchor=\"middle\" x=\"50%\" y=\"10px\">in</text></svg><svg width=\"100%\" x=\"0%\" y=\"30px\"><defs /><svg width=\"100%\" x=\"0\" y=\"0px\"><defs /><text text-anchor=\"middle\" x=\"50%\" y=\"10px\">IN</text></svg></svg><line stroke=\"black\" x1=\"50%\" x2=\"50%\" y1=\"12.5px\" y2=\"30px\" /></svg><line stroke=\"black\" x1=\"50%\" x2=\"5.09259%\" y1=\"12.5px\" y2=\"30px\" /><svg width=\"5.09259%\" x=\"6.01852%\" y=\"30px\"><defs /><svg width=\"100%\" x=\"0\" y=\"0px\"><defs /><text text-anchor=\"middle\" x=\"50%\" y=\"10px\">GPE</text></svg><svg width=\"100%\" x=\"0%\" y=\"30px\"><defs /><svg width=\"100%\" x=\"0\" y=\"0px\"><defs /><text text-anchor=\"middle\" x=\"50%\" y=\"10px\">Melbourne</text></svg><svg width=\"100%\" x=\"0%\" y=\"30px\"><defs /><svg width=\"100%\" x=\"0\" y=\"0px\"><defs /><text text-anchor=\"middle\" x=\"50%\" y=\"10px\">NNP</text></svg></svg><line stroke=\"black\" x1=\"50%\" x2=\"50%\" y1=\"12.5px\" y2=\"30px\" /></svg><line stroke=\"black\" x1=\"50%\" x2=\"50%\" y1=\"12.5px\" y2=\"30px\" /></svg><line stroke=\"black\" x1=\"50%\" x2=\"8.56481%\" y1=\"12.5px\" y2=\"30px\" /><svg width=\"1.38889%\" x=\"11.1111%\" y=\"30px\"><defs /><svg width=\"100%\" x=\"0\" y=\"0px\"><defs /><text text-anchor=\"middle\" x=\"50%\" y=\"10px\">,</text></svg><svg width=\"100%\" x=\"0%\" y=\"30px\"><defs /><svg width=\"100%\" x=\"0\" y=\"0px\"><defs /><text text-anchor=\"middle\" x=\"50%\" y=\"10px\">,</text></svg></svg><line stroke=\"black\" x1=\"50%\" x2=\"50%\" y1=\"12.5px\" y2=\"30px\" /></svg><line stroke=\"black\" x1=\"50%\" x2=\"11.8056%\" y1=\"12.5px\" y2=\"30px\" /><svg width=\"2.31481%\" x=\"12.5%\" y=\"30px\"><defs /><svg width=\"100%\" x=\"0\" y=\"0px\"><defs /><text text-anchor=\"middle\" x=\"50%\" y=\"10px\">it</text></svg><svg width=\"100%\" x=\"0%\" y=\"30px\"><defs /><svg width=\"100%\" x=\"0\" y=\"0px\"><defs /><text text-anchor=\"middle\" x=\"50%\" y=\"10px\">PRP</text></svg></svg><line stroke=\"black\" x1=\"50%\" x2=\"50%\" y1=\"12.5px\" y2=\"30px\" /></svg><line stroke=\"black\" x1=\"50%\" x2=\"13.6574%\" y1=\"12.5px\" y2=\"30px\" /><svg width=\"2.31481%\" x=\"14.8148%\" y=\"30px\"><defs /><svg width=\"100%\" x=\"0\" y=\"0px\"><defs /><text text-anchor=\"middle\" x=\"50%\" y=\"10px\">was</text></svg><svg width=\"100%\" x=\"0%\" y=\"30px\"><defs /><svg width=\"100%\" x=\"0\" y=\"0px\"><defs /><text text-anchor=\"middle\" x=\"50%\" y=\"10px\">VBD</text></svg></svg><line stroke=\"black\" x1=\"50%\" x2=\"50%\" y1=\"12.5px\" y2=\"30px\" /></svg><line stroke=\"black\" x1=\"50%\" x2=\"15.9722%\" y1=\"12.5px\" y2=\"30px\" /><svg width=\"6.01852%\" x=\"17.1296%\" y=\"30px\"><defs /><svg width=\"100%\" x=\"0\" y=\"0px\"><defs /><text text-anchor=\"middle\" x=\"50%\" y=\"10px\">established</text></svg><svg width=\"100%\" x=\"0%\" y=\"30px\"><defs /><svg width=\"100%\" x=\"0\" y=\"0px\"><defs /><text text-anchor=\"middle\" x=\"50%\" y=\"10px\">VBN</text></svg></svg><line stroke=\"black\" x1=\"50%\" x2=\"50%\" y1=\"12.5px\" y2=\"30px\" /></svg><line stroke=\"black\" x1=\"50%\" x2=\"20.1389%\" y1=\"12.5px\" y2=\"30px\" /><svg width=\"1.85185%\" x=\"23.1481%\" y=\"30px\"><defs /><svg width=\"100%\" x=\"0\" y=\"0px\"><defs /><text text-anchor=\"middle\" x=\"50%\" y=\"10px\">in</text></svg><svg width=\"100%\" x=\"0%\" y=\"30px\"><defs /><svg width=\"100%\" x=\"0\" y=\"0px\"><defs /><text text-anchor=\"middle\" x=\"50%\" y=\"10px\">IN</text></svg></svg><line stroke=\"black\" x1=\"50%\" x2=\"50%\" y1=\"12.5px\" y2=\"30px\" /></svg><line stroke=\"black\" x1=\"50%\" x2=\"24.0741%\" y1=\"12.5px\" y2=\"30px\" /><svg width=\"2.77778%\" x=\"25%\" y=\"30px\"><defs /><svg width=\"100%\" x=\"0\" y=\"0px\"><defs /><text text-anchor=\"middle\" x=\"50%\" y=\"10px\">1854</text></svg><svg width=\"100%\" x=\"0%\" y=\"30px\"><defs /><svg width=\"100%\" x=\"0\" y=\"0px\"><defs /><text text-anchor=\"middle\" x=\"50%\" y=\"10px\">CD</text></svg></svg><line stroke=\"black\" x1=\"50%\" x2=\"50%\" y1=\"12.5px\" y2=\"30px\" /></svg><line stroke=\"black\" x1=\"50%\" x2=\"26.3889%\" y1=\"12.5px\" y2=\"30px\" /><svg width=\"1.85185%\" x=\"27.7778%\" y=\"30px\"><defs /><svg width=\"100%\" x=\"0\" y=\"0px\"><defs /><text text-anchor=\"middle\" x=\"50%\" y=\"10px\">as</text></svg><svg width=\"100%\" x=\"0%\" y=\"30px\"><defs /><svg width=\"100%\" x=\"0\" y=\"0px\"><defs /><text text-anchor=\"middle\" x=\"50%\" y=\"10px\">IN</text></svg></svg><line stroke=\"black\" x1=\"50%\" x2=\"50%\" y1=\"12.5px\" y2=\"30px\" /></svg><line stroke=\"black\" x1=\"50%\" x2=\"28.7037%\" y1=\"12.5px\" y2=\"30px\" /><svg width=\"2.31481%\" x=\"29.6296%\" y=\"30px\"><defs /><svg width=\"100%\" x=\"0\" y=\"0px\"><defs /><text text-anchor=\"middle\" x=\"50%\" y=\"10px\">the</text></svg><svg width=\"100%\" x=\"0%\" y=\"30px\"><defs /><svg width=\"100%\" x=\"0\" y=\"0px\"><defs /><text text-anchor=\"middle\" x=\"50%\" y=\"10px\">DT</text></svg></svg><line stroke=\"black\" x1=\"50%\" x2=\"50%\" y1=\"12.5px\" y2=\"30px\" /></svg><line stroke=\"black\" x1=\"50%\" x2=\"30.787%\" y1=\"12.5px\" y2=\"30px\" /><svg width=\"12.963%\" x=\"31.9444%\" y=\"30px\"><defs /><svg width=\"100%\" x=\"0\" y=\"0px\"><defs /><text text-anchor=\"middle\" x=\"50%\" y=\"10px\">ORGANIZATION</text></svg><svg width=\"39.2857%\" x=\"0%\" y=\"30px\"><defs /><svg width=\"100%\" x=\"0\" y=\"0px\"><defs /><text text-anchor=\"middle\" x=\"50%\" y=\"10px\">Melbourne</text></svg><svg width=\"100%\" x=\"0%\" y=\"30px\"><defs /><svg width=\"100%\" x=\"0\" y=\"0px\"><defs /><text text-anchor=\"middle\" x=\"50%\" y=\"10px\">NNP</text></svg></svg><line stroke=\"black\" x1=\"50%\" x2=\"50%\" y1=\"12.5px\" y2=\"30px\" /></svg><line stroke=\"black\" x1=\"50%\" x2=\"19.6429%\" y1=\"12.5px\" y2=\"30px\" /><svg width=\"28.5714%\" x=\"39.2857%\" y=\"30px\"><defs /><svg width=\"100%\" x=\"0\" y=\"0px\"><defs /><text text-anchor=\"middle\" x=\"50%\" y=\"10px\">Public</text></svg><svg width=\"100%\" x=\"0%\" y=\"30px\"><defs /><svg width=\"100%\" x=\"0\" y=\"0px\"><defs /><text text-anchor=\"middle\" x=\"50%\" y=\"10px\">NNP</text></svg></svg><line stroke=\"black\" x1=\"50%\" x2=\"50%\" y1=\"12.5px\" y2=\"30px\" /></svg><line stroke=\"black\" x1=\"50%\" x2=\"53.5714%\" y1=\"12.5px\" y2=\"30px\" /><svg width=\"32.1429%\" x=\"67.8571%\" y=\"30px\"><defs /><svg width=\"100%\" x=\"0\" y=\"0px\"><defs /><text text-anchor=\"middle\" x=\"50%\" y=\"10px\">Library</text></svg><svg width=\"100%\" x=\"0%\" y=\"30px\"><defs /><svg width=\"100%\" x=\"0\" y=\"0px\"><defs /><text text-anchor=\"middle\" x=\"50%\" y=\"10px\">NNP</text></svg></svg><line stroke=\"black\" x1=\"50%\" x2=\"50%\" y1=\"12.5px\" y2=\"30px\" /></svg><line stroke=\"black\" x1=\"50%\" x2=\"83.9286%\" y1=\"12.5px\" y2=\"30px\" /></svg><line stroke=\"black\" x1=\"50%\" x2=\"38.4259%\" y1=\"12.5px\" y2=\"30px\" /><svg width=\"1.38889%\" x=\"44.9074%\" y=\"30px\"><defs /><svg width=\"100%\" x=\"0\" y=\"0px\"><defs /><text text-anchor=\"middle\" x=\"50%\" y=\"10px\">,</text></svg><svg width=\"100%\" x=\"0%\" y=\"30px\"><defs /><svg width=\"100%\" x=\"0\" y=\"0px\"><defs /><text text-anchor=\"middle\" x=\"50%\" y=\"10px\">,</text></svg></svg><line stroke=\"black\" x1=\"50%\" x2=\"50%\" y1=\"12.5px\" y2=\"30px\" /></svg><line stroke=\"black\" x1=\"50%\" x2=\"45.6019%\" y1=\"12.5px\" y2=\"30px\" /><svg width=\"3.7037%\" x=\"46.2963%\" y=\"30px\"><defs /><svg width=\"100%\" x=\"0\" y=\"0px\"><defs /><text text-anchor=\"middle\" x=\"50%\" y=\"10px\">making</text></svg><svg width=\"100%\" x=\"0%\" y=\"30px\"><defs /><svg width=\"100%\" x=\"0\" y=\"0px\"><defs /><text text-anchor=\"middle\" x=\"50%\" y=\"10px\">VBG</text></svg></svg><line stroke=\"black\" x1=\"50%\" x2=\"50%\" y1=\"12.5px\" y2=\"30px\" /></svg><line stroke=\"black\" x1=\"50%\" x2=\"48.1481%\" y1=\"12.5px\" y2=\"30px\" /><svg width=\"2.31481%\" x=\"50%\" y=\"30px\"><defs /><svg width=\"100%\" x=\"0\" y=\"0px\"><defs /><text text-anchor=\"middle\" x=\"50%\" y=\"10px\">it</text></svg><svg width=\"100%\" x=\"0%\" y=\"30px\"><defs /><svg width=\"100%\" x=\"0\" y=\"0px\"><defs /><text text-anchor=\"middle\" x=\"50%\" y=\"10px\">PRP</text></svg></svg><line stroke=\"black\" x1=\"50%\" x2=\"50%\" y1=\"12.5px\" y2=\"30px\" /></svg><line stroke=\"black\" x1=\"50%\" x2=\"51.1574%\" y1=\"12.5px\" y2=\"30px\" /><svg width=\"5.09259%\" x=\"52.3148%\" y=\"30px\"><defs /><svg width=\"100%\" x=\"0\" y=\"0px\"><defs /><text text-anchor=\"middle\" x=\"50%\" y=\"10px\">GPE</text></svg><svg width=\"100%\" x=\"0%\" y=\"30px\"><defs /><svg width=\"100%\" x=\"0\" y=\"0px\"><defs /><text text-anchor=\"middle\" x=\"50%\" y=\"10px\">Australia</text></svg><svg width=\"100%\" x=\"0%\" y=\"30px\"><defs /><svg width=\"100%\" x=\"0\" y=\"0px\"><defs /><text text-anchor=\"middle\" x=\"50%\" y=\"10px\">NNP</text></svg></svg><line stroke=\"black\" x1=\"50%\" x2=\"50%\" y1=\"12.5px\" y2=\"30px\" /></svg><line stroke=\"black\" x1=\"50%\" x2=\"50%\" y1=\"12.5px\" y2=\"30px\" /></svg><line stroke=\"black\" x1=\"50%\" x2=\"54.8611%\" y1=\"12.5px\" y2=\"30px\" /><svg width=\"2.31481%\" x=\"57.4074%\" y=\"30px\"><defs /><svg width=\"100%\" x=\"0\" y=\"0px\"><defs /><text text-anchor=\"middle\" x=\"50%\" y=\"10px\">'s</text></svg><svg width=\"100%\" x=\"0%\" y=\"30px\"><defs /><svg width=\"100%\" x=\"0\" y=\"0px\"><defs /><text text-anchor=\"middle\" x=\"50%\" y=\"10px\">POS</text></svg></svg><line stroke=\"black\" x1=\"50%\" x2=\"50%\" y1=\"12.5px\" y2=\"30px\" /></svg><line stroke=\"black\" x1=\"50%\" x2=\"58.5648%\" y1=\"12.5px\" y2=\"30px\" /><svg width=\"3.7037%\" x=\"59.7222%\" y=\"30px\"><defs /><svg width=\"100%\" x=\"0\" y=\"0px\"><defs /><text text-anchor=\"middle\" x=\"50%\" y=\"10px\">oldest</text></svg><svg width=\"100%\" x=\"0%\" y=\"30px\"><defs /><svg width=\"100%\" x=\"0\" y=\"0px\"><defs /><text text-anchor=\"middle\" x=\"50%\" y=\"10px\">JJS</text></svg></svg><line stroke=\"black\" x1=\"50%\" x2=\"50%\" y1=\"12.5px\" y2=\"30px\" /></svg><line stroke=\"black\" x1=\"50%\" x2=\"61.5741%\" y1=\"12.5px\" y2=\"30px\" /><svg width=\"3.7037%\" x=\"63.4259%\" y=\"30px\"><defs /><svg width=\"100%\" x=\"0\" y=\"0px\"><defs /><text text-anchor=\"middle\" x=\"50%\" y=\"10px\">public</text></svg><svg width=\"100%\" x=\"0%\" y=\"30px\"><defs /><svg width=\"100%\" x=\"0\" y=\"0px\"><defs /><text text-anchor=\"middle\" x=\"50%\" y=\"10px\">JJ</text></svg></svg><line stroke=\"black\" x1=\"50%\" x2=\"50%\" y1=\"12.5px\" y2=\"30px\" /></svg><line stroke=\"black\" x1=\"50%\" x2=\"65.2778%\" y1=\"12.5px\" y2=\"30px\" /><svg width=\"4.16667%\" x=\"67.1296%\" y=\"30px\"><defs /><svg width=\"100%\" x=\"0\" y=\"0px\"><defs /><text text-anchor=\"middle\" x=\"50%\" y=\"10px\">library</text></svg><svg width=\"100%\" x=\"0%\" y=\"30px\"><defs /><svg width=\"100%\" x=\"0\" y=\"0px\"><defs /><text text-anchor=\"middle\" x=\"50%\" y=\"10px\">NN</text></svg></svg><line stroke=\"black\" x1=\"50%\" x2=\"50%\" y1=\"12.5px\" y2=\"30px\" /></svg><line stroke=\"black\" x1=\"50%\" x2=\"69.213%\" y1=\"12.5px\" y2=\"30px\" /><svg width=\"2.31481%\" x=\"71.2963%\" y=\"30px\"><defs /><svg width=\"100%\" x=\"0\" y=\"0px\"><defs /><text text-anchor=\"middle\" x=\"50%\" y=\"10px\">and</text></svg><svg width=\"100%\" x=\"0%\" y=\"30px\"><defs /><svg width=\"100%\" x=\"0\" y=\"0px\"><defs /><text text-anchor=\"middle\" x=\"50%\" y=\"10px\">CC</text></svg></svg><line stroke=\"black\" x1=\"50%\" x2=\"50%\" y1=\"12.5px\" y2=\"30px\" /></svg><line stroke=\"black\" x1=\"50%\" x2=\"72.4537%\" y1=\"12.5px\" y2=\"30px\" /><svg width=\"2.31481%\" x=\"73.6111%\" y=\"30px\"><defs /><svg width=\"100%\" x=\"0\" y=\"0px\"><defs /><text text-anchor=\"middle\" x=\"50%\" y=\"10px\">one</text></svg><svg width=\"100%\" x=\"0%\" y=\"30px\"><defs /><svg width=\"100%\" x=\"0\" y=\"0px\"><defs /><text text-anchor=\"middle\" x=\"50%\" y=\"10px\">CD</text></svg></svg><line stroke=\"black\" x1=\"50%\" x2=\"50%\" y1=\"12.5px\" y2=\"30px\" /></svg><line stroke=\"black\" x1=\"50%\" x2=\"74.7685%\" y1=\"12.5px\" y2=\"30px\" /><svg width=\"1.85185%\" x=\"75.9259%\" y=\"30px\"><defs /><svg width=\"100%\" x=\"0\" y=\"0px\"><defs /><text text-anchor=\"middle\" x=\"50%\" y=\"10px\">of</text></svg><svg width=\"100%\" x=\"0%\" y=\"30px\"><defs /><svg width=\"100%\" x=\"0\" y=\"0px\"><defs /><text text-anchor=\"middle\" x=\"50%\" y=\"10px\">IN</text></svg></svg><line stroke=\"black\" x1=\"50%\" x2=\"50%\" y1=\"12.5px\" y2=\"30px\" /></svg><line stroke=\"black\" x1=\"50%\" x2=\"76.8519%\" y1=\"12.5px\" y2=\"30px\" /><svg width=\"2.31481%\" x=\"77.7778%\" y=\"30px\"><defs /><svg width=\"100%\" x=\"0\" y=\"0px\"><defs /><text text-anchor=\"middle\" x=\"50%\" y=\"10px\">the</text></svg><svg width=\"100%\" x=\"0%\" y=\"30px\"><defs /><svg width=\"100%\" x=\"0\" y=\"0px\"><defs /><text text-anchor=\"middle\" x=\"50%\" y=\"10px\">DT</text></svg></svg><line stroke=\"black\" x1=\"50%\" x2=\"50%\" y1=\"12.5px\" y2=\"30px\" /></svg><line stroke=\"black\" x1=\"50%\" x2=\"78.9352%\" y1=\"12.5px\" y2=\"30px\" /><svg width=\"3.24074%\" x=\"80.0926%\" y=\"30px\"><defs /><svg width=\"100%\" x=\"0\" y=\"0px\"><defs /><text text-anchor=\"middle\" x=\"50%\" y=\"10px\">first</text></svg><svg width=\"100%\" x=\"0%\" y=\"30px\"><defs /><svg width=\"100%\" x=\"0\" y=\"0px\"><defs /><text text-anchor=\"middle\" x=\"50%\" y=\"10px\">JJ</text></svg></svg><line stroke=\"black\" x1=\"50%\" x2=\"50%\" y1=\"12.5px\" y2=\"30px\" /></svg><line stroke=\"black\" x1=\"50%\" x2=\"81.713%\" y1=\"12.5px\" y2=\"30px\" /><svg width=\"2.77778%\" x=\"83.3333%\" y=\"30px\"><defs /><svg width=\"100%\" x=\"0\" y=\"0px\"><defs /><text text-anchor=\"middle\" x=\"50%\" y=\"10px\">free</text></svg><svg width=\"100%\" x=\"0%\" y=\"30px\"><defs /><svg width=\"100%\" x=\"0\" y=\"0px\"><defs /><text text-anchor=\"middle\" x=\"50%\" y=\"10px\">JJ</text></svg></svg><line stroke=\"black\" x1=\"50%\" x2=\"50%\" y1=\"12.5px\" y2=\"30px\" /></svg><line stroke=\"black\" x1=\"50%\" x2=\"84.7222%\" y1=\"12.5px\" y2=\"30px\" /><svg width=\"5.09259%\" x=\"86.1111%\" y=\"30px\"><defs /><svg width=\"100%\" x=\"0\" y=\"0px\"><defs /><text text-anchor=\"middle\" x=\"50%\" y=\"10px\">libraries</text></svg><svg width=\"100%\" x=\"0%\" y=\"30px\"><defs /><svg width=\"100%\" x=\"0\" y=\"0px\"><defs /><text text-anchor=\"middle\" x=\"50%\" y=\"10px\">NNS</text></svg></svg><line stroke=\"black\" x1=\"50%\" x2=\"50%\" y1=\"12.5px\" y2=\"30px\" /></svg><line stroke=\"black\" x1=\"50%\" x2=\"88.6574%\" y1=\"12.5px\" y2=\"30px\" /><svg width=\"1.85185%\" x=\"91.2037%\" y=\"30px\"><defs /><svg width=\"100%\" x=\"0\" y=\"0px\"><defs /><text text-anchor=\"middle\" x=\"50%\" y=\"10px\">in</text></svg><svg width=\"100%\" x=\"0%\" y=\"30px\"><defs /><svg width=\"100%\" x=\"0\" y=\"0px\"><defs /><text text-anchor=\"middle\" x=\"50%\" y=\"10px\">IN</text></svg></svg><line stroke=\"black\" x1=\"50%\" x2=\"50%\" y1=\"12.5px\" y2=\"30px\" /></svg><line stroke=\"black\" x1=\"50%\" x2=\"92.1296%\" y1=\"12.5px\" y2=\"30px\" /><svg width=\"2.31481%\" x=\"93.0556%\" y=\"30px\"><defs /><svg width=\"100%\" x=\"0\" y=\"0px\"><defs /><text text-anchor=\"middle\" x=\"50%\" y=\"10px\">the</text></svg><svg width=\"100%\" x=\"0%\" y=\"30px\"><defs /><svg width=\"100%\" x=\"0\" y=\"0px\"><defs /><text text-anchor=\"middle\" x=\"50%\" y=\"10px\">DT</text></svg></svg><line stroke=\"black\" x1=\"50%\" x2=\"50%\" y1=\"12.5px\" y2=\"30px\" /></svg><line stroke=\"black\" x1=\"50%\" x2=\"94.213%\" y1=\"12.5px\" y2=\"30px\" /><svg width=\"3.24074%\" x=\"95.3704%\" y=\"30px\"><defs /><svg width=\"100%\" x=\"0\" y=\"0px\"><defs /><text text-anchor=\"middle\" x=\"50%\" y=\"10px\">world</text></svg><svg width=\"100%\" x=\"0%\" y=\"30px\"><defs /><svg width=\"100%\" x=\"0\" y=\"0px\"><defs /><text text-anchor=\"middle\" x=\"50%\" y=\"10px\">NN</text></svg></svg><line stroke=\"black\" x1=\"50%\" x2=\"50%\" y1=\"12.5px\" y2=\"30px\" /></svg><line stroke=\"black\" x1=\"50%\" x2=\"96.9907%\" y1=\"12.5px\" y2=\"30px\" /><svg width=\"1.38889%\" x=\"98.6111%\" y=\"30px\"><defs /><svg width=\"100%\" x=\"0\" y=\"0px\"><defs /><text text-anchor=\"middle\" x=\"50%\" y=\"10px\">.</text></svg><svg width=\"100%\" x=\"0%\" y=\"30px\"><defs /><svg width=\"100%\" x=\"0\" y=\"0px\"><defs /><text text-anchor=\"middle\" x=\"50%\" y=\"10px\">.</text></svg></svg><line stroke=\"black\" x1=\"50%\" x2=\"50%\" y1=\"12.5px\" y2=\"30px\" /></svg><line stroke=\"black\" x1=\"50%\" x2=\"99.3056%\" y1=\"12.5px\" y2=\"30px\" /></svg>"
            ],
            "text/plain": [
              "TreeLayout(Tree('S', [('Located', 'VBN'), ('in', 'IN'), Tree('GPE', [('Melbourne', 'NNP')]), (',', ','), ('it', 'PRP'), ('was', 'VBD'), ('established', 'VBN'), ('in', 'IN'), ('1854', 'CD'), ('as', 'IN'), ('the', 'DT'), Tree('ORGANIZATION', [('Melbourne', 'NNP'), ('Public', 'NNP'), ('Library', 'NNP')]), (',', ','), ('making', 'VBG'), ('it', 'PRP'), Tree('GPE', [('Australia', 'NNP')]), (\"'s\", 'POS'), ('oldest', 'JJS'), ('public', 'JJ'), ('library', 'NN'), ('and', 'CC'), ('one', 'CD'), ('of', 'IN'), ('the', 'DT'), ('first', 'JJ'), ('free', 'JJ'), ('libraries', 'NNS'), ('in', 'IN'), ('the', 'DT'), ('world', 'NN'), ('.', '.')]))"
            ]
          },
          "execution_count": 8,
          "metadata": {},
          "output_type": "execute_result"
        }
      ],
      "source": [
        "import svgling\n",
        "entities = nltk.ne_chunk(tagged_tokens)\n",
        "\n",
        "svgling.draw_tree(entities, font_size=10)"
      ]
    },
    {
      "cell_type": "markdown",
      "metadata": {
        "id": "0cs7bQ0jPdxJ"
      },
      "source": [
        "The NER results are represented as a tree. With the sentence (`S`) the root, and \"token\" branches extended from it, with POS leaves. Where words or phrases have been recognised as entities they are given a sub-branch according to the category of entity.\n",
        "\n",
        "The tree diagram created from our test input displays three entities that have been recognised:\n",
        "\n",
        "  1. Melbourne (GPE)\n",
        "  2. Melbourne Public Library (Organization)\n",
        "  3. Australia (GPE)\n",
        "\n",
        "Referring back to the list of entity categories that NLTK employs the results are as expected."
      ]
    },
    {
      "cell_type": "markdown",
      "metadata": {
        "id": "W-9-CbkfJwQe"
      },
      "source": [
        "## Conclusion\n",
        "\n",
        "Our journey through Named Entity Recognition has shown how computers can extract the most valuable information from ordinary text. By breaking language into tokens, identifying parts of speech, and recognising meaningful entities, NER transforms raw text into structured data that computers and humans can easily parse.\n",
        "\n",
        "While we've explored the three key steps in this process, the good news is that you don't need to build everything from scratch. Many Python packages come with default settings that tend to embody best practices and will serve most standard use cases.\n",
        "\n",
        "The most important decision you'll make is selecting the right package or model for your specific needs. This choice determines what kind of entities you'll extract and how they'll be formatted, whether you need to identify people's names, locations or dates.\n",
        "\n",
        "As you apply these techniques to your own projects, you'll discover how NER can reveal patterns and insights hidden within text, turning unstructured information into actionable knowledge.\n",
        "\n",
        "\n",
        "\n",
        "For example, the Flair and SpaCy NLP packages offer Enlgish language models trained on 18 different entity categories:\n",
        "  - Flair [https://huggingface.co/flair/ner-english-ontonotes-large](https://huggingface.co/flair/ner-english-ontonotes-large)\n",
        "  - SpaCy [https://huggingface.co/spacy/en_core_web_sm](https://huggingface.co/spacy/en_core_web_sm)\n",
        "\n"
      ]
    },
    {
      "cell_type": "markdown",
      "metadata": {
        "id": "pgFXjHjc81l_"
      },
      "source": [
        "## References\n",
        "\n",
        "Bird, Steven, Edward Loper and Ewan Klein (2009), Natural Language Processing with Python. O’Reilly Media Inc."
      ]
    }
  ],
  "metadata": {
    "colab": {
      "provenance": []
    },
    "kernelspec": {
      "display_name": "Python 3",
      "name": "python3"
    },
    "language_info": {
      "name": "python"
    }
  },
  "nbformat": 4,
  "nbformat_minor": 0
}
